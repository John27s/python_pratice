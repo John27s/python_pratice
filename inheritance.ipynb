{
 "cells": [
  {
   "cell_type": "code",
   "execution_count": 1,
   "metadata": {},
   "outputs": [
    {
     "name": "stdout",
     "output_type": "stream",
     "text": [
      "Satyam 102\n",
      "Mayank 103\n",
      "Emp class called\n"
     ]
    }
   ],
   "source": [
    "# A Python program to demonstrate Single inheritance\n",
    "class Person:\n",
    "\n",
    "    # Constructor\n",
    "    def __init__(self, name, id):\n",
    "        self.name = name\n",
    "        self.id = id\n",
    "\n",
    "    # To check if this person is an employee\n",
    "    def Display(self):\n",
    "        print(self.name, self.id)\n",
    "\n",
    "class Emp(Person):\n",
    "\n",
    "    def Print(self):\n",
    "        print(\"Emp class called\")\n",
    "    \n",
    " \n",
    " \n",
    "# Driver code // Base class\n",
    "emp = Person(\"Satyam\", 102) # An Object of Person\n",
    "emp.Display()\n",
    "\n",
    "\n",
    "# Derivd code // Child class\n",
    "Emp_details = Emp(\"Mayank\", 103)\n",
    "# calling parent class function\n",
    "Emp_details.Display()\n",
    "# Calling child class function\n",
    "Emp_details.Print()"
   ]
  },
  {
   "cell_type": "code",
   "execution_count": null,
   "metadata": {},
   "outputs": [],
   "source": []
  }
 ],
 "metadata": {
  "kernelspec": {
   "display_name": "Python 3",
   "language": "python",
   "name": "python3"
  },
  "language_info": {
   "codemirror_mode": {
    "name": "ipython",
    "version": 3
   },
   "file_extension": ".py",
   "mimetype": "text/x-python",
   "name": "python",
   "nbconvert_exporter": "python",
   "pygments_lexer": "ipython3",
   "version": "3.12.4"
  }
 },
 "nbformat": 4,
 "nbformat_minor": 2
}
