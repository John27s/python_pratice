{
 "cells": [
  {
   "cell_type": "code",
   "execution_count": 1,
   "metadata": {},
   "outputs": [
    {
     "name": "stdout",
     "output_type": "stream",
     "text": [
      "sum of 3 + 3 = 6\n"
     ]
    }
   ],
   "source": [
    "def add_sum(a,b):\n",
    "    c=a+b\n",
    "    return c\n",
    "n1=int(input(\"Enter the number 1 \"))\n",
    "n2=int(input(\"Enter the number 2 \"))\n",
    "result=add_sum(n1,n2)\n",
    "print(\"sum of {} + {} = {}\".format(n1,n2,result))"
   ]
  },
  {
   "cell_type": "code",
   "execution_count": 2,
   "metadata": {},
   "outputs": [
    {
     "name": "stdout",
     "output_type": "stream",
     "text": [
      "Positional Parameters:\n",
      "pos1: 1\n",
      "pos2: 2\n",
      "\n",
      "Arbitrary Positional Parameters (*args):\n",
      "arg1: 3\n",
      "arg2: 4\n",
      "arg3: 5\n",
      "\n",
      "Arbitrary Keyword Parameters (**kwargs):\n",
      "name: Alice\n",
      "age: 30\n",
      "country: Wonderland\n"
     ]
    }
   ],
   "source": [
    "\n",
    "def demo_function(pos1, pos2, *args, **kwargs):\n",
    "    # Positional parameters\n",
    "    print(\"Positional Parameters:\")\n",
    "    print(f\"pos1: {pos1}\")\n",
    "    print(f\"pos2: {pos2}\")\n",
    "    \n",
    "    # Arbitrary positional parameters (*args)\n",
    "    print(\"\\nArbitrary Positional Parameters (*args):\")\n",
    "    for index, arg in enumerate(args, start=1):\n",
    "        print(f\"arg{index}: {arg}\")\n",
    "    \n",
    "    # Arbitrary keyword parameters (**kwargs)\n",
    "    print(\"\\nArbitrary Keyword Parameters (**kwargs):\")\n",
    "    for key, value in kwargs.items():\n",
    "        print(f\"{key}: {value}\")\n",
    "\n",
    "# Example usage of the function\n",
    "demo_function(1, 2, 3, 4, 5, name=\"Alice\", age=30, country=\"Wonderland\")\n"
   ]
  },
  {
   "cell_type": "code",
   "execution_count": null,
   "metadata": {},
   "outputs": [],
   "source": []
  }
 ],
 "metadata": {
  "kernelspec": {
   "display_name": "Python 3",
   "language": "python",
   "name": "python3"
  },
  "language_info": {
   "codemirror_mode": {
    "name": "ipython",
    "version": 3
   },
   "file_extension": ".py",
   "mimetype": "text/x-python",
   "name": "python",
   "nbconvert_exporter": "python",
   "pygments_lexer": "ipython3",
   "version": "3.12.4"
  }
 },
 "nbformat": 4,
 "nbformat_minor": 2
}
