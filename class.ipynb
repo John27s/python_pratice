{
 "cells": [
  {
   "cell_type": "code",
   "execution_count": 23,
   "metadata": {},
   "outputs": [
    {
     "name": "stdout",
     "output_type": "stream",
     "text": [
      "Car color name brand\n",
      "color name brand Red Ford Mustang\n"
     ]
    }
   ],
   "source": [
    "class Car:\n",
    "    def info(self,color,name,brand):\n",
    "        self.color = color\n",
    "        self.name = name\n",
    "        self.brand = brand\n",
    "        \n",
    "        print(\"Car\",self.color,self.brand,self.name)\n",
    "\n",
    "obj_1 = Car()\n",
    "obj_1.info(\"color\",\"brand\",\"name\")\n",
    "print (obj_1.color,obj_1.brand,obj_1.name, \"Red\",\"Ford\",\"Mustang\")\n"
   ]
  },
  {
   "cell_type": "code",
   "execution_count": 8,
   "metadata": {},
   "outputs": [
    {
     "name": "stdout",
     "output_type": "stream",
     "text": [
      "Hello  abc\n",
      "abc Welcome\n",
      "Hello  xyz\n"
     ]
    }
   ],
   "source": [
    "class Hello:\n",
    "    def greetings(self,name):\n",
    "        self.name = name\n",
    "        print(\"Hello \",self.name)\n",
    "\n",
    "obj_1 = Hello()\n",
    "obj_1.greetings(\"abc\")\n",
    "print (obj_1.name, \"Welcome\")\n",
    "\n",
    "obj_1 = Hello()\n",
    "obj_1.greetings(\"xyz\")"
   ]
  },
  {
   "cell_type": "code",
   "execution_count": null,
   "metadata": {},
   "outputs": [],
   "source": [
    "class Test:\n",
    "    def __init__(self, num1): \n",
    "        # Constructor method to initialize the instance with a value\n",
    "        self.num1 = num1  # Assigning the value passed to the instance variable num1\n",
    "        print('Constructor is executed', self.num1)  # Printing a message along with the value\n",
    "\n",
    "    def fun(self, num2):\n",
    "        # Method to perform an operation, takes num2 as parameter\n",
    "        self.num2 = num2  # Assigning the value passed to the instance variable num2\n",
    "        print('Function is executed')  # Printing a message indicating the function execution\n",
    "\n",
    "    def add(self):\n",
    "        # Method to add num1 and num2 and print the result\n",
    "        sum = self.num1 + self.num2  # Adding num1 and num2\n",
    "        print(sum)  # Printing the sum\n",
    "\n",
    "t = Test(10)  # Creating an instance of the Test class with the value 10\n",
    "t.fun(15)  # Calling the fun() method on the instance t with the value 15\n",
    "t.add()   # Calling the add() method on the instance t "
   ]
  },
  {
   "cell_type": "code",
   "execution_count": 3,
   "metadata": {},
   "outputs": [
    {
     "name": "stdout",
     "output_type": "stream",
     "text": [
      "Name: John\n",
      "Age: 13\n",
      "Not Eligible to vote\n"
     ]
    }
   ],
   "source": [
    "p=input(\"Enter the name\")\n",
    "n=int(input(\"Enter the number\"))\n",
    "class student:\n",
    "    def __init__(self, name, age):\n",
    "        self.name = name\n",
    "        self.age = age\n",
    "    \n",
    "    def can_vote(self):\n",
    "        if self.age >= 18:\n",
    "            print(\"Eligible to vote\")\n",
    "        else:\n",
    "            print(\"Not Eligible to vote\")\n",
    "\n",
    "student = student(p,n)\n",
    "\n",
    "print(\"Name:\",p)\n",
    "print(\"Age:\",n)\n",
    "student.can_vote()"
   ]
  },
  {
   "cell_type": "code",
   "execution_count": null,
   "metadata": {},
   "outputs": [],
   "source": []
  }
 ],
 "metadata": {
  "kernelspec": {
   "display_name": "Python 3",
   "language": "python",
   "name": "python3"
  },
  "language_info": {
   "codemirror_mode": {
    "name": "ipython",
    "version": 3
   },
   "file_extension": ".py",
   "mimetype": "text/x-python",
   "name": "python",
   "nbconvert_exporter": "python",
   "pygments_lexer": "ipython3",
   "version": "3.12.4"
  }
 },
 "nbformat": 4,
 "nbformat_minor": 2
}
