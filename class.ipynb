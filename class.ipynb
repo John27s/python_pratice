{
 "cells": [
  {
   "cell_type": "code",
   "execution_count": 23,
   "metadata": {},
   "outputs": [
    {
     "name": "stdout",
     "output_type": "stream",
     "text": [
      "Car color name brand\n",
      "color name brand Red Ford Mustang\n"
     ]
    }
   ],
   "source": [
    "class Car:\n",
    "    def info(self,color,name,brand):\n",
    "        self.color = color\n",
    "        self.name = name\n",
    "        self.brand = brand\n",
    "        \n",
    "        print(\"Car\",self.color,self.brand,self.name)\n",
    "\n",
    "obj_1 = Car()\n",
    "obj_1.info(\"color\",\"brand\",\"name\")\n",
    "print (obj_1.color,obj_1.brand,obj_1.name, \"Red\",\"Ford\",\"Mustang\")\n"
   ]
  },
  {
   "cell_type": "code",
   "execution_count": 8,
   "metadata": {},
   "outputs": [
    {
     "name": "stdout",
     "output_type": "stream",
     "text": [
      "Hello  abc\n",
      "abc Welcome\n",
      "Hello  xyz\n"
     ]
    }
   ],
   "source": [
    "class Hello:\n",
    "    def greetings(self,name):\n",
    "        self.name = name\n",
    "        print(\"Hello \",self.name)\n",
    "\n",
    "obj_1 = Hello()\n",
    "obj_1.greetings(\"abc\")\n",
    "print (obj_1.name, \"Welcome\")\n",
    "\n",
    "obj_1 = Hello()\n",
    "obj_1.greetings(\"xyz\")"
   ]
  },
  {
   "cell_type": "code",
   "execution_count": null,
   "metadata": {},
   "outputs": [],
   "source": []
  }
 ],
 "metadata": {
  "kernelspec": {
   "display_name": "Python 3",
   "language": "python",
   "name": "python3"
  },
  "language_info": {
   "codemirror_mode": {
    "name": "ipython",
    "version": 3
   },
   "file_extension": ".py",
   "mimetype": "text/x-python",
   "name": "python",
   "nbconvert_exporter": "python",
   "pygments_lexer": "ipython3",
   "version": "3.12.4"
  }
 },
 "nbformat": 4,
 "nbformat_minor": 2
}
