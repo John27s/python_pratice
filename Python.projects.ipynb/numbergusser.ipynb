{
 "cells": [
  {
   "cell_type": "code",
   "execution_count": 2,
   "metadata": {},
   "outputs": [
    {
     "name": "stdout",
     "output_type": "stream",
     "text": [
      "You were above the number!\n",
      "You were above the number!\n",
      "You were above the number!\n",
      "You got it!\n",
      "You got it in 4 guesses\n"
     ]
    }
   ],
   "source": [
    "import random\n",
    "\n",
    "top_of_range = input(\"Type a number: \")\n",
    "\n",
    "if top_of_range.isdigit():\n",
    "    top_of_range = int(top_of_range)\n",
    "    \n",
    "    if top_of_range <= 0:\n",
    "        print('Please type a number larger than 0 next time.')\n",
    "        quit()\n",
    "else:\n",
    "    print('Please type a number next time.')\n",
    "    quit()\n",
    "\n",
    "random_number = random.randint(0,top_of_range)\n",
    "guesses = 0\n",
    "\n",
    "while True:\n",
    "    guesses += 1\n",
    "    user_guess = input (\"Make a guess: \")\n",
    "    if user_guess.isdigit():\n",
    "        user_guess = int(user_guess)\n",
    "    else:\n",
    "        print('Please type a number next time.')\n",
    "        continue\n",
    "\n",
    "    if user_guess == random_number:\n",
    "        print(\"You got it!\")\n",
    "        break\n",
    "    elif user_guess > random_number:\n",
    "        print(\"You were above the number!\")\n",
    "    else: \n",
    "        print(\"You were below the number!\")\n",
    "print(\"You got it in\", guesses, \"guesses\")"
   ]
  },
  {
   "cell_type": "code",
   "execution_count": null,
   "metadata": {},
   "outputs": [],
   "source": []
  }
 ],
 "metadata": {
  "kernelspec": {
   "display_name": "Python 3",
   "language": "python",
   "name": "python3"
  },
  "language_info": {
   "codemirror_mode": {
    "name": "ipython",
    "version": 3
   },
   "file_extension": ".py",
   "mimetype": "text/x-python",
   "name": "python",
   "nbconvert_exporter": "python",
   "pygments_lexer": "ipython3",
   "version": "3.12.4"
  }
 },
 "nbformat": 4,
 "nbformat_minor": 2
}
