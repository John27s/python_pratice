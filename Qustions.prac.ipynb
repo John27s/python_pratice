{
 "cells": [
  {
   "cell_type": "code",
   "execution_count": 13,
   "metadata": {},
   "outputs": [
    {
     "name": "stdout",
     "output_type": "stream",
     "text": [
      "rectangle1 - Length: 8, Width: 4\n",
      "Area: 32\n",
      "Perimeter: 24\n"
     ]
    }
   ],
   "source": [
    "class Rectangle:\n",
    "    def __init__(self, length, width):\n",
    "        self.length = length\n",
    "        self.width = width\n",
    "        \n",
    "    def area(self):\n",
    "        return self.length * self.width\n",
    "    def perimeter(self):\n",
    "        return 2 * (self.length + self.width)\n",
    "\n",
    "rectangle1 = Rectangle(8,4)\n",
    "\n",
    "print(f\"rectangle1 - Length: {rectangle1.length}, Width: {rectangle1.width}\")\n",
    "print(f\"Area: {rectangle1.area()}\")\n",
    "print(f\"Perimeter: {rectangle1.perimeter()}\")"
   ]
  },
  {
   "cell_type": "code",
   "execution_count": 4,
   "metadata": {},
   "outputs": [
    {
     "name": "stdout",
     "output_type": "stream",
     "text": [
      "Rectangle 1 - Length: 10, Width: 5\n",
      "Area: 50\n",
      "Perimeter: 30\n",
      "\n",
      "Rectangle 2 - Length: 7, Width: 3\n",
      "Area: 21\n",
      "Perimeter: 20\n"
     ]
    }
   ],
   "source": [
    "class Rectangle:\n",
    "    def __init__(self, length, width):\n",
    "        self.length = length\n",
    "        self.width = width\n",
    "    \n",
    "    def area(self):\n",
    "        return self.length * self.width\n",
    "    \n",
    "    def perimeter(self):\n",
    "        return 2 * (self.length + self.width)\n",
    "\n",
    "# Example usage\n",
    "rectangle1 = Rectangle(10, 5)\n",
    "rectangle2 = Rectangle(7, 3)\n",
    "\n",
    "print(f\"Rectangle 1 - Length: {rectangle1.length}, Width: {rectangle1.width}\")\n",
    "print(f\"Area: {rectangle1.area()}\")\n",
    "print(f\"Perimeter: {rectangle1.perimeter()}\")\n",
    "\n",
    "print(f\"\\nRectangle 2 - Length: {rectangle2.length}, Width: {rectangle2.width}\")\n",
    "print(f\"Area: {rectangle2.area()}\")\n",
    "print(f\"Perimeter: {rectangle2.perimeter()}\")\n"
   ]
  },
  {
   "cell_type": "markdown",
   "metadata": {},
   "source": [
    " Question: Create a class called Rectangle with attributes length and width. Implement methods to calculate the area and perimeter of the rectangle.\n",
    " \n",
    " Above give answer"
   ]
  },
  {
   "cell_type": "code",
   "execution_count": null,
   "metadata": {},
   "outputs": [],
   "source": []
  },
  {
   "cell_type": "markdown",
   "metadata": {},
   "source": [
    " Question: Create a class called Circle with attribute radius. Implement methods to calculate the area and circumference of the circle.\n"
   ]
  },
  {
   "cell_type": "code",
   "execution_count": 15,
   "metadata": {},
   "outputs": [
    {
     "name": "stdout",
     "output_type": "stream",
     "text": [
      "circle1 - radius: 8\n",
      "Area: 64\n",
      "circumference: 128\n"
     ]
    }
   ],
   "source": [
    "class circle:\n",
    "    def __init__(self, radius):\n",
    "        self.radius = radius\n",
    "        \n",
    "    def area(self):\n",
    "        return self.radius * self.radius\n",
    "    def circumference(self):\n",
    "        return 2 * self.radius * self.radius\n",
    "\n",
    "circle1 = circle(8)\n",
    "\n",
    "print(f\"circle1 - radius: {circle1.radius}\")\n",
    "print(f\"Area: {circle1.area()}\")\n",
    "print(f\"circumference: {circle1.circumference()}\")"
   ]
  },
  {
   "cell_type": "code",
   "execution_count": 16,
   "metadata": {},
   "outputs": [
    {
     "name": "stdout",
     "output_type": "stream",
     "text": [
      "Circle 1 - Radius: 5\n",
      "Area: 78.54\n",
      "Circumference: 31.42\n",
      "\n",
      "Circle 2 - Radius: 3\n",
      "Area: 28.27\n",
      "Circumference: 18.85\n"
     ]
    }
   ],
   "source": [
    "import math\n",
    "\n",
    "class Circle:\n",
    "    def __init__(self, radius):\n",
    "        self.radius = radius\n",
    "    \n",
    "    def area(self):\n",
    "        return math.pi * (self.radius ** 2)\n",
    "    \n",
    "    def circumference(self):\n",
    "        return 2 * math.pi * self.radius\n",
    "\n",
    "# Example usage\n",
    "circle1 = Circle(5)\n",
    "circle2 = Circle(3)\n",
    "\n",
    "print(f\"Circle 1 - Radius: {circle1.radius}\")\n",
    "print(f\"Area: {circle1.area():.2f}\")\n",
    "print(f\"Circumference: {circle1.circumference():.2f}\")\n",
    "\n",
    "print(f\"\\nCircle 2 - Radius: {circle2.radius}\")\n",
    "print(f\"Area: {circle2.area():.2f}\")\n",
    "print(f\"Circumference: {circle2.circumference():.2f}\")\n"
   ]
  },
  {
   "cell_type": "code",
   "execution_count": null,
   "metadata": {},
   "outputs": [],
   "source": []
  },
  {
   "cell_type": "markdown",
   "metadata": {},
   "source": [
    "Question: Create a class called Employee with attributes name, age, and salary. Implement a method called increase_salary that takes a percentage increase as input and updates the employee's salary accordingly.\n"
   ]
  },
  {
   "cell_type": "code",
   "execution_count": 17,
   "metadata": {},
   "outputs": [
    {
     "name": "stdout",
     "output_type": "stream",
     "text": [
      "Employee 1 - Name: John Doe, Age: 30, Salary: 50000\n",
      "Employee 2 - Name: Jane Smith, Age: 40, Salary: 60000\n",
      "\n",
      "After salary increase:\n",
      "Employee 1 - Name: John Doe, Age: 30, Salary: 55000.0\n",
      "Employee 2 - Name: Jane Smith, Age: 40, Salary: 66000.0\n"
     ]
    }
   ],
   "source": [
    "class Employee:\n",
    "    def __init__(self, name, age, salary):\n",
    "        self.name = name\n",
    "        self.age = age\n",
    "        self.salary = salary\n",
    "    \n",
    "    def increase_salary(self, percentage):\n",
    "        self.salary += self.salary * (percentage / 100)\n",
    "\n",
    "# Example usage\n",
    "employee1 = Employee(\"John Doe\", 30, 50000)\n",
    "employee2 = Employee(\"Jane Smith\", 40, 60000)\n",
    "\n",
    "print(f\"Employee 1 - Name: {employee1.name}, Age: {employee1.age}, Salary: {employee1.salary}\")\n",
    "print(f\"Employee 2 - Name: {employee2.name}, Age: {employee2.age}, Salary: {employee2.salary}\")\n",
    "\n",
    "# Increase salary by 10% for both employees\n",
    "employee1.increase_salary(10)\n",
    "employee2.increase_salary(10)\n",
    "\n",
    "print(\"\\nAfter salary increase:\")\n",
    "print(f\"Employee 1 - Name: {employee1.name}, Age: {employee1.age}, Salary: {employee1.salary}\")\n",
    "print(f\"Employee 2 - Name: {employee2.name}, Age: {employee2.age}, Salary: {employee2.salary}\")\n"
   ]
  },
  {
   "cell_type": "code",
   "execution_count": null,
   "metadata": {},
   "outputs": [],
   "source": []
  },
  {
   "cell_type": "markdown",
   "metadata": {},
   "source": [
    "Question: Create a class called BankAccount with attributes account_number, holder_name, and balance. Implement methods to deposit and withdraw funds from the account.\n"
   ]
  },
  {
   "cell_type": "code",
   "execution_count": 18,
   "metadata": {},
   "outputs": [
    {
     "name": "stdout",
     "output_type": "stream",
     "text": [
      "Account 1 - Account Number: 123456, Holder Name: Alice Johnson, Balance: 1000\n",
      "Account 2 - Account Number: 789012, Holder Name: Bob Smith, Balance: 0\n",
      "Deposited 500. New balance: 1500\n",
      "Deposited 1000. New balance: 1000\n",
      "Withdrew 200. New balance: 1300\n",
      "Insufficient funds.\n"
     ]
    }
   ],
   "source": [
    "class BankAccount:\n",
    "    def __init__(self, account_number, holder_name, balance=0):\n",
    "        self.account_number = account_number\n",
    "        self.holder_name = holder_name\n",
    "        self.balance = balance\n",
    "    \n",
    "    def deposit(self, amount):\n",
    "        if amount > 0:\n",
    "            self.balance += amount\n",
    "            print(f\"Deposited {amount}. New balance: {self.balance}\")\n",
    "        else:\n",
    "            print(\"Deposit amount must be positive.\")\n",
    "    \n",
    "    def withdraw(self, amount):\n",
    "        if amount > 0:\n",
    "            if amount <= self.balance:\n",
    "                self.balance -= amount\n",
    "                print(f\"Withdrew {amount}. New balance: {self.balance}\")\n",
    "            else:\n",
    "                print(\"Insufficient funds.\")\n",
    "        else:\n",
    "            print(\"Withdrawal amount must be positive.\")\n",
    "\n",
    "# Example usage\n",
    "account1 = BankAccount(\"123456\", \"Alice Johnson\", 1000)\n",
    "account2 = BankAccount(\"789012\", \"Bob Smith\")\n",
    "\n",
    "print(f\"Account 1 - Account Number: {account1.account_number}, Holder Name: {account1.holder_name}, Balance: {account1.balance}\")\n",
    "print(f\"Account 2 - Account Number: {account2.account_number}, Holder Name: {account2.holder_name}, Balance: {account2.balance}\")\n",
    "\n",
    "# Deposit funds\n",
    "account1.deposit(500)\n",
    "account2.deposit(1000)\n",
    "\n",
    "# Withdraw funds\n",
    "account1.withdraw(200)\n",
    "account2.withdraw(1500)\n"
   ]
  },
  {
   "cell_type": "code",
   "execution_count": null,
   "metadata": {},
   "outputs": [],
   "source": []
  },
  {
   "cell_type": "markdown",
   "metadata": {},
   "source": [
    "Question: Create a class called Car with attributes  model, and year. Implement a method called start_engine that prints a message indicating the car has started.\n"
   ]
  },
  {
   "cell_type": "code",
   "execution_count": 19,
   "metadata": {},
   "outputs": [
    {
     "name": "stdout",
     "output_type": "stream",
     "text": [
      "Car 1 - Model: Toyota Corolla, Year: 2020\n",
      "Car 2 - Model: Honda Civic, Year: 2018\n",
      "The engine of the 2020 Toyota Corolla has started.\n",
      "The engine of the 2018 Honda Civic has started.\n"
     ]
    }
   ],
   "source": [
    "class Car:\n",
    "    def __init__(self, model, year):\n",
    "        self.model = model\n",
    "        self.year = year\n",
    "    \n",
    "    def start_engine(self):\n",
    "        print(f\"The engine of the {self.year} {self.model} has started.\")\n",
    "\n",
    "# Example usage\n",
    "car1 = Car(\"Toyota Corolla\", 2020)\n",
    "car2 = Car(\"Honda Civic\", 2018)\n",
    "\n",
    "print(f\"Car 1 - Model: {car1.model}, Year: {car1.year}\")\n",
    "print(f\"Car 2 - Model: {car2.model}, Year: {car2.year}\")\n",
    "\n",
    "# Start engines\n",
    "car1.start_engine()\n",
    "car2.start_engine()\n"
   ]
  },
  {
   "cell_type": "code",
   "execution_count": null,
   "metadata": {},
   "outputs": [],
   "source": []
  },
  {
   "cell_type": "markdown",
   "metadata": {},
   "source": [
    "Question: Create a class called Student with attributes name, age, and grades (a list of integers). Implement methods to calculate the average grade and determine if the student has passed (average grade >= 60).\n"
   ]
  },
  {
   "cell_type": "code",
   "execution_count": 20,
   "metadata": {},
   "outputs": [
    {
     "name": "stdout",
     "output_type": "stream",
     "text": [
      "Student 1 - Name: Alice Johnson, Age: 20, Grades: [85, 78, 92, 70]\n",
      "Average Grade: 81.25\n",
      "Has Passed: True\n",
      "\n",
      "Student 2 - Name: Bob Smith, Age: 22, Grades: [58, 60, 65, 55]\n",
      "Average Grade: 59.50\n",
      "Has Passed: False\n"
     ]
    }
   ],
   "source": [
    "class Student:\n",
    "    def __init__(self, name, age, grades):\n",
    "        self.name = name\n",
    "        self.age = age\n",
    "        self.grades = grades\n",
    "    \n",
    "    def average_grade(self):\n",
    "        if self.grades:\n",
    "            return sum(self.grades) / len(self.grades)\n",
    "        else:\n",
    "            return 0\n",
    "    \n",
    "    def has_passed(self):\n",
    "        return self.average_grade() >= 60\n",
    "\n",
    "# Example usage\n",
    "student1 = Student(\"Alice Johnson\", 20, [85, 78, 92, 70])\n",
    "student2 = Student(\"Bob Smith\", 22, [58, 60, 65, 55])\n",
    "\n",
    "print(f\"Student 1 - Name: {student1.name}, Age: {student1.age}, Grades: {student1.grades}\")\n",
    "print(f\"Average Grade: {student1.average_grade():.2f}\")\n",
    "print(f\"Has Passed: {student1.has_passed()}\")\n",
    "\n",
    "print(f\"\\nStudent 2 - Name: {student2.name}, Age: {student2.age}, Grades: {student2.grades}\")\n",
    "print(f\"Average Grade: {student2.average_grade():.2f}\")\n",
    "print(f\"Has Passed: {student2.has_passed()}\")\n"
   ]
  },
  {
   "cell_type": "code",
   "execution_count": null,
   "metadata": {},
   "outputs": [],
   "source": []
  },
  {
   "cell_type": "markdown",
   "metadata": {},
   "source": [
    "Question: Create a class called Book with attributes title, author, and year. Implement a method called get_age that returns the age of the book (current year - publication year).\n"
   ]
  },
  {
   "cell_type": "code",
   "execution_count": 22,
   "metadata": {},
   "outputs": [
    {
     "name": "stdout",
     "output_type": "stream",
     "text": [
      "Book 1 - Title: To Kill a Mockingbird, Author: Harper Lee, Year: 2000\n",
      "Age: 24 years\n",
      "\n",
      "Book 2 - Title: 1984, Author: George Orwell, Year: 1949\n",
      "Age: 75 years\n"
     ]
    }
   ],
   "source": [
    "from datetime import datetime\n",
    "\n",
    "class Book:\n",
    "    def __init__(self, title, author, year):\n",
    "        self.title = title\n",
    "        self.author = author\n",
    "        self.year = year\n",
    "    \n",
    "    def get_age(self):\n",
    "        current_year = datetime.now().year\n",
    "        return current_year - self.year\n",
    "\n",
    "# Example usage\n",
    "book1 = Book(\"To Kill a Mockingbird\", \"Harper Lee\", 2000)\n",
    "book2 = Book(\"1984\", \"George Orwell\", 1949)\n",
    "\n",
    "print(f\"Book 1 - Title: {book1.title}, Author: {book1.author}, Year: {book1.year}\")\n",
    "print(f\"Age: {book1.get_age()} years\")\n",
    "\n",
    "print(f\"\\nBook 2 - Title: {book2.title}, Author: {book2.author}, Year: {book2.year}\")\n",
    "print(f\"Age: {book2.get_age()} years\")\n"
   ]
  },
  {
   "cell_type": "code",
   "execution_count": null,
   "metadata": {},
   "outputs": [],
   "source": []
  },
  {
   "cell_type": "markdown",
   "metadata": {},
   "source": [
    "Question: Create a class called Shape with an abstract method called calculate_area. Create two subclasses Rectangle and Triangle that inherit from Shape and implement the calculate_area method accordingly.\n"
   ]
  },
  {
   "cell_type": "code",
   "execution_count": 1,
   "metadata": {},
   "outputs": [
    {
     "name": "stdout",
     "output_type": "stream",
     "text": [
      "Rectangle - Length: 10, Width: 5\n",
      "Area: 50\n",
      "\n",
      "Triangle - Base: 6, Height: 8\n",
      "Area: 24.0\n"
     ]
    }
   ],
   "source": [
    "from abc import ABC, abstractmethod\n",
    "\n",
    "class Shape(ABC):\n",
    "    @abstractmethod\n",
    "    def calculate_area(self):\n",
    "        pass\n",
    "\n",
    "class Rectangle(Shape):\n",
    "    def __init__(self, length, width):\n",
    "        self.length = length\n",
    "        self.width = width\n",
    "    \n",
    "    def calculate_area(self):\n",
    "        return self.length * self.width\n",
    "\n",
    "class Triangle(Shape):\n",
    "    def __init__(self, base, height):\n",
    "        self.base = base\n",
    "        self.height = height\n",
    "    \n",
    "    def calculate_area(self):\n",
    "        return 0.5 * self.base * self.height\n",
    "\n",
    "# Example usage\n",
    "rectangle = Rectangle(10, 5)\n",
    "triangle = Triangle(6, 8)\n",
    "\n",
    "print(f\"Rectangle - Length: {rectangle.length}, Width: {rectangle.width}\")\n",
    "print(f\"Area: {rectangle.calculate_area()}\")\n",
    "\n",
    "print(f\"\\nTriangle - Base: {triangle.base}, Height: {triangle.height}\")\n",
    "print(f\"Area: {triangle.calculate_area()}\")\n"
   ]
  },
  {
   "cell_type": "code",
   "execution_count": null,
   "metadata": {},
   "outputs": [],
   "source": []
  },
  {
   "cell_type": "markdown",
   "metadata": {},
   "source": [
    "Question: Create a class called Shape with attributes color and filled. Implement subclasses Circle and Rectangle that inherit from Shape. Override the calculate_area method in each subclass to calculate the area of the respective shape. Demonstrate polymorphism by creating instances of both subclasses and calling the calculate_area method.\n"
   ]
  },
  {
   "cell_type": "code",
   "execution_count": 1,
   "metadata": {},
   "outputs": [
    {
     "name": "stdout",
     "output_type": "stream",
     "text": [
      "Shape: Circle\n",
      "Color: Red\n",
      "Filled: True\n",
      "Area: 78.54\n",
      "\n",
      "Shape: Rectangle\n",
      "Color: Blue\n",
      "Filled: False\n",
      "Area: 50.00\n",
      "\n"
     ]
    }
   ],
   "source": [
    "from abc import ABC, abstractmethod\n",
    "import math\n",
    "\n",
    "class Shape(ABC):\n",
    "    def __init__(self, color, filled):\n",
    "        self.color = color\n",
    "        self.filled = filled\n",
    "    \n",
    "    @abstractmethod\n",
    "    def calculate_area(self):\n",
    "        pass\n",
    "\n",
    "class Circle(Shape):\n",
    "    def __init__(self, color, filled, radius):\n",
    "        super().__init__(color, filled)\n",
    "        self.radius = radius\n",
    "    \n",
    "    def calculate_area(self):\n",
    "        return math.pi * (self.radius ** 2)\n",
    "\n",
    "class Rectangle(Shape):\n",
    "    def __init__(self, color, filled, length, width):\n",
    "        super().__init__(color, filled)\n",
    "        self.length = length\n",
    "        self.width = width\n",
    "    \n",
    "    def calculate_area(self):\n",
    "        return self.length * self.width\n",
    "\n",
    "# Example usage\n",
    "shapes = [\n",
    "    Circle(\"Red\", True, 5),\n",
    "    Rectangle(\"Blue\", False, 10, 5)\n",
    "]\n",
    "\n",
    "for shape in shapes:\n",
    "    print(f\"Shape: {shape.__class__.__name__}\")\n",
    "    print(f\"Color: {shape.color}\")\n",
    "    print(f\"Filled: {shape.filled}\")\n",
    "    print(f\"Area: {shape.calculate_area():.2f}\\n\")\n"
   ]
  },
  {
   "cell_type": "code",
   "execution_count": null,
   "metadata": {},
   "outputs": [],
   "source": []
  },
  {
   "cell_type": "markdown",
   "metadata": {},
   "source": [
    "Question: Create a class called Animal with a method called make_sound. Implement subclasses Dog and Cat that inherit from Animal. Override the make_sound method in each subclass to produce the appropriate sound for the animal. Demonstrate polymorphism by creating instances of both subclasses and calling the make_sound method.\n"
   ]
  },
  {
   "cell_type": "code",
   "execution_count": 2,
   "metadata": {},
   "outputs": [
    {
     "name": "stdout",
     "output_type": "stream",
     "text": [
      "Dog makes sound: Bark\n",
      "Cat makes sound: Meow\n"
     ]
    }
   ],
   "source": [
    "class Animal:\n",
    "    def make_sound(self):\n",
    "        pass\n",
    "\n",
    "class Dog(Animal):\n",
    "    def make_sound(self):\n",
    "        return \"Bark\"\n",
    "\n",
    "class Cat(Animal):\n",
    "    def make_sound(self):\n",
    "        return \"Meow\"\n",
    "\n",
    "# Example usage\n",
    "animals = [Dog(), Cat()]\n",
    "\n",
    "for animal in animals:\n",
    "    print(f\"{animal.__class__.__name__} makes sound: {animal.make_sound()}\")\n"
   ]
  },
  {
   "cell_type": "code",
   "execution_count": null,
   "metadata": {},
   "outputs": [],
   "source": []
  },
  {
   "cell_type": "markdown",
   "metadata": {},
   "source": [
    "Question: Create a class called BankAccount with attributes account_number and balance. Implement subclasses CheckingAccount and SavingsAccount that inherit from BankAccount. Add specific methods for each subclass, such as withdraw and deposit. Demonstrate inheritance by creating instances of both subclasses and calling their specific methods.\n"
   ]
  },
  {
   "cell_type": "code",
   "execution_count": 4,
   "metadata": {},
   "outputs": [
    {
     "name": "stdout",
     "output_type": "stream",
     "text": [
      "CheckingAccount - Account Number: CHK12345, Balance: $500.00\n",
      "Deposited $200. New balance: $700.00\n",
      "CheckingAccount: Withdrew $150. New balance: $550.00\n",
      "\n",
      "SavingsAccount - Account Number: SAV12345, Balance: $1000.00\n",
      "Deposited $500. New balance: $1500.00\n",
      "SavingsAccount: Withdrew $300. New balance: $1200.00\n"
     ]
    }
   ],
   "source": [
    "class BankAccount:\n",
    "    def __init__(self, account_number, balance=0):\n",
    "        self.account_number = account_number\n",
    "        self.balance = balance\n",
    "    \n",
    "    def deposit(self, amount):\n",
    "        if amount > 0:\n",
    "            self.balance += amount\n",
    "            print(f\"Deposited ${amount}. New balance: ${self.balance:.2f}\")\n",
    "        else:\n",
    "            print(\"Deposit amount must be positive.\")\n",
    "    \n",
    "    def withdraw(self, amount):\n",
    "        if amount > 0 and amount <= self.balance:\n",
    "            self.balance -= amount\n",
    "            print(f\"Withdrew ${amount}. New balance: ${self.balance:.2f}\")\n",
    "        else:\n",
    "            print(\"Invalid withdrawal amount.\")\n",
    "\n",
    "class CheckingAccount(BankAccount):\n",
    "    def __init__(self, account_number, balance=0):\n",
    "        super().__init__(account_number, balance)\n",
    "    \n",
    "    def withdraw(self, amount):\n",
    "        if amount > 0 and amount <= self.balance:\n",
    "            self.balance -= amount\n",
    "            print(f\"CheckingAccount: Withdrew ${amount}. New balance: ${self.balance:.2f}\")\n",
    "        else:\n",
    "            print(\"CheckingAccount: Invalid withdrawal amount.\")\n",
    "\n",
    "class SavingsAccount(BankAccount):\n",
    "    def __init__(self, account_number, balance=0):\n",
    "        super().__init__(account_number, balance)\n",
    "    \n",
    "    def withdraw(self, amount):\n",
    "        if amount > 0 and amount <= self.balance:\n",
    "            self.balance -= amount\n",
    "            print(f\"SavingsAccount: Withdrew ${amount}. New balance: ${self.balance:.2f}\")\n",
    "        else:\n",
    "            print(\"SavingsAccount: Invalid withdrawal amount.\")\n",
    "\n",
    "# Example usage\n",
    "checking_account = CheckingAccount(\"CHK12345\", 500)\n",
    "savings_account = SavingsAccount(\"SAV12345\", 1000)\n",
    "\n",
    "print(f\"CheckingAccount - Account Number: {checking_account.account_number}, Balance: ${checking_account.balance:.2f}\")\n",
    "checking_account.deposit(200)\n",
    "checking_account.withdraw(150)\n",
    "\n",
    "print(f\"\\nSavingsAccount - Account Number: {savings_account.account_number}, Balance: ${savings_account.balance:.2f}\")\n",
    "savings_account.deposit(500)\n",
    "savings_account.withdraw(300)\n"
   ]
  },
  {
   "cell_type": "markdown",
   "metadata": {},
   "source": [
    "Question: Create a class called Vehicle with attributes make and model. Implement a subclass called Car that inherits from Vehicle and adds an attribute num_doors. Implement a subclass called Motorcycle that inherits from Vehicle and adds an attribute top_speed. Demonstrate inheritance by creating instances of both subclasses and accessing their attributes.\n"
   ]
  },
  {
   "cell_type": "code",
   "execution_count": 5,
   "metadata": {},
   "outputs": [
    {
     "name": "stdout",
     "output_type": "stream",
     "text": [
      "Car - Make: Toyota, Model: Camry, Number of Doors: 4\n",
      "Motorcycle - Make: Yamaha, Model: R1, Top Speed: 186 mph\n"
     ]
    }
   ],
   "source": [
    "class Vehicle:\n",
    "    def __init__(self, make, model):\n",
    "        self.make = make\n",
    "        self.model = model\n",
    "\n",
    "class Car(Vehicle):\n",
    "    def __init__(self, make, model, num_doors):\n",
    "        super().__init__(make, model)\n",
    "        self.num_doors = num_doors\n",
    "\n",
    "class Motorcycle(Vehicle):\n",
    "    def __init__(self, make, model, top_speed):\n",
    "        super().__init__(make, model)\n",
    "        self.top_speed = top_speed\n",
    "\n",
    "# Example usage\n",
    "car = Car(\"Toyota\", \"Camry\", 4)\n",
    "motorcycle = Motorcycle(\"Yamaha\", \"R1\", 186)\n",
    "\n",
    "print(f\"Car - Make: {car.make}, Model: {car.model}, Number of Doors: {car.num_doors}\")\n",
    "print(f\"Motorcycle - Make: {motorcycle.make}, Model: {motorcycle.model}, Top Speed: {motorcycle.top_speed} mph\")\n"
   ]
  },
  {
   "cell_type": "markdown",
   "metadata": {},
   "source": [
    "Question: Create a class called Shape with an abstract method called calculate_area. Implement subclasses Circle and Rectangle that inherit from Shape and implement the calculate_area method accordingly. Demonstrate polymorphism by creating instances of both subclasses and calling the calculate_area method.\n"
   ]
  },
  {
   "cell_type": "code",
   "execution_count": 1,
   "metadata": {},
   "outputs": [
    {
     "name": "stdout",
     "output_type": "stream",
     "text": [
      "Circle area: 78.54\n",
      "Rectangle area: 50.00\n"
     ]
    }
   ],
   "source": [
    "from abc import ABC, abstractmethod\n",
    "import math\n",
    "\n",
    "class Shape(ABC):\n",
    "    @abstractmethod\n",
    "    def calculate_area(self):\n",
    "        pass\n",
    "\n",
    "class Circle(Shape):\n",
    "    def __init__(self, radius):\n",
    "        self.radius = radius\n",
    "    \n",
    "    def calculate_area(self):\n",
    "        return math.pi * (self.radius ** 2)\n",
    "\n",
    "class Rectangle(Shape):\n",
    "    def __init__(self, length, width):\n",
    "        self.length = length\n",
    "        self.width = width\n",
    "    \n",
    "    def calculate_area(self):\n",
    "        return self.length * self.width\n",
    "\n",
    "# Example usage\n",
    "shapes = [\n",
    "    Circle(5),\n",
    "    Rectangle(10, 5)\n",
    "]\n",
    "\n",
    "for shape in shapes:\n",
    "    print(f\"{shape.__class__.__name__} area: {shape.calculate_area():.2f}\")\n"
   ]
  }
 ],
 "metadata": {
  "kernelspec": {
   "display_name": "Python 3",
   "language": "python",
   "name": "python3"
  },
  "language_info": {
   "codemirror_mode": {
    "name": "ipython",
    "version": 3
   },
   "file_extension": ".py",
   "mimetype": "text/x-python",
   "name": "python",
   "nbconvert_exporter": "python",
   "pygments_lexer": "ipython3",
   "version": "3.12.4"
  }
 },
 "nbformat": 4,
 "nbformat_minor": 2
}
